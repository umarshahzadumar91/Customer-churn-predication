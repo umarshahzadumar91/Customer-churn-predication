{
  "nbformat": 4,
  "nbformat_minor": 0,
  "metadata": {
    "colab": {
      "private_outputs": true,
      "provenance": [],
      "authorship_tag": "ABX9TyOeKi8wqcKj3sHXItW+dImJ",
      "include_colab_link": true
    },
    "kernelspec": {
      "name": "python3",
      "display_name": "Python 3"
    },
    "language_info": {
      "name": "python"
    }
  },
  "cells": [
    {
      "cell_type": "markdown",
      "metadata": {
        "id": "view-in-github",
        "colab_type": "text"
      },
      "source": [
        "<a href=\"https://colab.research.google.com/github/umarshahzadumar91/Customer-churn-predication/blob/main/hotel_recomend.ipynb\" target=\"_parent\"><img src=\"https://colab.research.google.com/assets/colab-badge.svg\" alt=\"Open In Colab\"/></a>"
      ]
    },
    {
      "cell_type": "code",
      "execution_count": null,
      "metadata": {
        "id": "OanA96tNkhR9"
      },
      "outputs": [],
      "source": [
        "from google.colab import drive\n",
        "drive.mount('/content/drive')"
      ]
    },
    {
      "cell_type": "code",
      "source": [
        "import pandas as pd\n",
        "import numpy as np\n",
        "import matplotlib.pyplot as plt\n",
        "import seaborn as sns\n",
        "from sklearn.feature_extraction.text import TfidfVectorizer\n",
        "from sklearn.metrics.pairwise import linear_kernel\n",
        "from scipy.sparse import hstack"
      ],
      "metadata": {
        "id": "53SXMWtlkliV"
      },
      "execution_count": null,
      "outputs": []
    },
    {
      "cell_type": "code",
      "source": [
        "df = pd.read_excel('/content/drive/MyDrive/dataset/r_d.xlsx')"
      ],
      "metadata": {
        "id": "lhSEEHadkwRv"
      },
      "execution_count": null,
      "outputs": []
    },
    {
      "cell_type": "code",
      "source": [
        "df.head()"
      ],
      "metadata": {
        "id": "BaGM5WTDlB26"
      },
      "execution_count": null,
      "outputs": []
    },
    {
      "cell_type": "code",
      "source": [
        "df.shape"
      ],
      "metadata": {
        "id": "hfW1I_2ul0uT"
      },
      "execution_count": null,
      "outputs": []
    },
    {
      "cell_type": "code",
      "source": [
        "# Remove leading and trailing spaces from the 'Opening Hours' column\n",
        "df['Opening Hours'] = df['Opening Hours'].str.strip()\n",
        "\n",
        "# Remove any additional unconverted data, such as '- 12:00 AM'\n",
        "df['Opening Hours'] = df['Opening Hours'].str.replace('-.*', '', regex=True)\n",
        "\n",
        "# Convert to datetime format\n",
        "df['Opening Hours'] = pd.to_datetime(df['Opening Hours'], format='%I:%M %p')"
      ],
      "metadata": {
        "id": "Jq35iGolm3cS"
      },
      "execution_count": null,
      "outputs": []
    },
    {
      "cell_type": "code",
      "source": [
        "df.info()"
      ],
      "metadata": {
        "id": "A9ATs7nVl54h"
      },
      "execution_count": null,
      "outputs": []
    },
    {
      "source": [
        "# @title City vs Rating\n",
        "figsize = (12, 1.2 * len(df['City'].unique()))\n",
        "plt.figure(figsize=figsize)\n",
        "sns.violinplot(df, x='Rating', y='City', inner='stick', palette='Dark2')\n",
        "sns.despine(top=True, right=True, bottom=True, left=True)"
      ],
      "cell_type": "code",
      "execution_count": null,
      "outputs": [],
      "metadata": {
        "id": "_VdvfxO0lp34"
      }
    },
    {
      "source": [
        "df.groupby('City').size().plot(kind='barh', color=sns.palettes.mpl_palette('Dark2'))\n",
        "plt.gca().spines[['top', 'right',]].set_visible(False)"
      ],
      "cell_type": "code",
      "execution_count": null,
      "outputs": [],
      "metadata": {
        "id": "YkyTzxFzlc0p"
      }
    },
    {
      "source": [
        "# @title Rating\n",
        "df['Rating'].plot(kind='hist', bins=20, title='Rating')\n",
        "plt.gca().spines[['top', 'right',]].set_visible(False)"
      ],
      "cell_type": "code",
      "execution_count": null,
      "outputs": [],
      "metadata": {
        "id": "oegu2OkAlTcj"
      }
    },
    {
      "cell_type": "markdown",
      "source": [
        "---\n",
        "# Resturant Recomendation\n",
        "---"
      ],
      "metadata": {
        "id": "tTZ77FHQrIna"
      }
    },
    {
      "cell_type": "code",
      "source": [
        "# vectorizer for cuisine\n",
        "cuisine_tfidf = TfidfVectorizer()\n",
        "cuisine_feature = cuisine_tfidf.fit_transform(df['Cuisine'])"
      ],
      "metadata": {
        "id": "SE3tfzGnqs3p"
      },
      "execution_count": null,
      "outputs": []
    },
    {
      "cell_type": "code",
      "source": [
        "# vectorizer for location\n",
        "location_tfidf = TfidfVectorizer()\n",
        "location_feature = location_tfidf.fit_transform(df['Location'])"
      ],
      "metadata": {
        "id": "4sblCwakqv4R"
      },
      "execution_count": null,
      "outputs": []
    },
    {
      "cell_type": "code",
      "source": [
        "\n",
        "# Combine the feature vectors\n",
        "combined_features = hstack([cuisine_feature, location_feature])"
      ],
      "metadata": {
        "id": "IR3stAYbq1QJ"
      },
      "execution_count": null,
      "outputs": []
    },
    {
      "cell_type": "code",
      "source": [
        "# Compute the cosine similarity matrix\n",
        "cosine_similarities = linear_kernel(combined_features, combined_features)"
      ],
      "metadata": {
        "id": "VypF44-kq4t4"
      },
      "execution_count": null,
      "outputs": []
    },
    {
      "cell_type": "code",
      "source": [
        "# Function to get restaurant recommendations based on a given restaurant name\n",
        "def get_recommendations(name, cosine_similarities, df, top_n=5):\n",
        "    # Get the index of the restaurant\n",
        "    idx = df[df['Name'] == name].index[0]\n",
        "\n",
        "    # Get the pairwise similarities of the restaurant with other restaurants\n",
        "    sim_scores = list(enumerate(cosine_similarities[idx]))\n",
        "\n",
        "    # Sort the restaurants based on similarity scores\n",
        "    sim_scores = sorted(sim_scores, key=lambda x: x[1], reverse=True)\n",
        "\n",
        "    # Get the top N similar restaurants (excluding the input restaurant itself)\n",
        "    top_similar_restaurants = [sim_scores[i][0] for i in range(1, top_n + 1)]\n",
        "\n",
        "    # Return the recommended restaurant names\n",
        "    return df['Name'].iloc[top_similar_restaurants]\n"
      ],
      "metadata": {
        "id": "QQoo17hFnywD"
      },
      "execution_count": null,
      "outputs": []
    },
    {
      "cell_type": "code",
      "source": [
        "# Get recommendations for a restaurant\n",
        "restaurant_name = 'Sizzling Sizzlers'\n",
        "recommendations = get_recommendations(restaurant_name, cosine_similarities, df)\n",
        "\n",
        "print(f\"Recommendations for {restaurant_name}:\")\n",
        "print(recommendations)"
      ],
      "metadata": {
        "id": "62_1mxMHlPNl"
      },
      "execution_count": null,
      "outputs": []
    }
  ]
}